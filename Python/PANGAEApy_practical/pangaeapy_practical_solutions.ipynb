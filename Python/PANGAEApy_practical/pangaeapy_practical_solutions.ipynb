{
 "cells": [
  {
   "cell_type": "markdown",
   "metadata": {},
   "source": [
    "![PANGAEA_Banner.png](https://github.com/pangaea-data-publisher/community-workshop-material/raw/master/banner.png)"
   ]
  },
  {
   "cell_type": "markdown",
   "metadata": {},
   "source": [
    "# pangaeapy practical\n",
    "**How to search and download data from PANGAEA**\n",
    "\n",
    "By: Kathrin Riemann-Campe\n",
    "Last updated: 2025-05-12\n",
    "\n",
    "This notebook will guide you how to retrieve diverse earth- and environmental data and its metadata from the [PANGAEA data repository](https://www.pangaea.de) using Python. It uses the [PangaeaPy package](https://pypi.org/project/pangaeapy/), to facilitate the data download.\n",
    "\n",
    "Run this notebook in:\n",
    "[GoogleColab](https://colab.research.google.com/github/pangaea-data-publisher/community-workshop-material/blob/master/Python/PANGAEApy_practical/pangaeapy_practical.ipynb): <a target=\"_blank\" href=\"https://colab.research.google.com/github/pangaea-data-publisher/community-workshop-material/blob/master/Python/PANGAEApy_practical/pangaeapy_practical.ipynb\">\n",
    "  <img src=\"https://colab.research.google.com/assets/colab-badge.svg\" alt=\"Open In Colab\"/>\n",
    "</a>"
   ]
  },
  {
   "cell_type": "markdown",
   "metadata": {},
   "source": [
    "### Content of this notebook\n",
    "1. Import libraries\n",
    "2. Query for data in PANGAEA\n",
    "3. Get metadata\n",
    "4. Download datasets\n",
    "5. Download binary files"
   ]
  },
  {
   "cell_type": "markdown",
   "metadata": {
    "tags": []
   },
   "source": [
    "## 1. Import libraries"
   ]
  },
  {
   "cell_type": "code",
   "execution_count": null,
   "metadata": {},
   "outputs": [],
   "source": [
    "### general libraries\n",
    "import os\n",
    "import pandas as pd\n",
    "import numpy as np\n",
    "import requests \n",
    "from urllib.request import urlopen, urlretrieve"
   ]
  },
  {
   "cell_type": "code",
   "execution_count": null,
   "metadata": {
    "tags": []
   },
   "outputs": [],
   "source": [
    "### PANGAEApy\n",
    "## if you need to install PANGAEApy use pip\n",
    "!pip install pangaeapy # comment to not install pangaeapy\n",
    "\n",
    "## if you need to upgrade PANGAEApy use \n",
    "# !pip install pangaeapy --upgrade # Uncomment to upgrade pangaeapy\n",
    "\n",
    "## check version of PANGAEApy\n",
    "# !pip show pangaeapy\n",
    "\n",
    "## for details see https://pypi.org/project/pangaeapy/ \n",
    "\n",
    "import pangaeapy as pan\n",
    "from pangaeapy.pandataset import PanDataSet"
   ]
  },
  {
   "cell_type": "markdown",
   "metadata": {},
   "source": [
    "### PANGAEApy documentation\n",
    "To call the PANGAEApy documentation uncomment one of the following lines"
   ]
  },
  {
   "cell_type": "code",
   "execution_count": null,
   "metadata": {
    "tags": []
   },
   "outputs": [],
   "source": [
    "# help(pan)\n",
    "### or \n",
    "# help(pan.panquery)\n",
    "### or\n",
    "# help(pan.pandataset)"
   ]
  },
  {
   "cell_type": "code",
   "execution_count": null,
   "metadata": {
    "tags": []
   },
   "outputs": [],
   "source": [
    "### ignore warnings in this script\n",
    "import warnings\n",
    "from pandas.errors import SettingWithCopyWarning\n",
    "warnings.simplefilter(action='ignore', category=(SettingWithCopyWarning))\n",
    "warnings.simplefilter(action='ignore', category=FutureWarning)"
   ]
  },
  {
   "cell_type": "markdown",
   "metadata": {
    "tags": []
   },
   "source": [
    "## 2. Query for data in PANGAEA\n",
    "\n",
    "AIM: What data can I find for a particular topic such as a species, location or author?\n",
    "\n",
    "This mirrors the query via the [PANGAEA website](https://pangaea.de/)  \n",
    "\n",
    "**Note:** The search term is enclosed with single quotes '. If your search term includes a blank, use additional double quotes \" inside the single quotes.  \n",
    "Example: _'sea ice'_ vs. _'\"sea ice\"'_  \n",
    "Example: _'parameter:Temperature, water method:CTD/Rosette'_ vs. _'parameter:\"Temperature, water\" method:CTD/Rosette'_"
   ]
  },
  {
   "cell_type": "markdown",
   "metadata": {
    "tags": []
   },
   "source": [
    "### General info on query\n",
    "Note:\n",
    "* limit = the maximum number of datasets to be returned from query is 500.\n",
    "    * default limit = 10\n",
    "    * To download > 500 use the offset attribute e.g. pan.PanQuery(\"Triticum\", limit = 500, offset=500)\n",
    "* type: \n",
    "    * collection = dataset collection\n",
    "    * member = individual dataset which can be part of a dataset collection \n",
    "* score: Indicates how well the dataset matched the query term\n",
    "* help(pan.panquery)"
   ]
  },
  {
   "cell_type": "markdown",
   "metadata": {},
   "source": [
    "### 2.1 Basic queries"
   ]
  },
  {
   "cell_type": "code",
   "execution_count": null,
   "metadata": {},
   "outputs": [],
   "source": [
    "### query database for \"Geochemistry\"\n",
    "query = pan.PanQuery('Geochemistry')\n",
    "## compare with https://pangaea.de/?q=Geochemistry"
   ]
  },
  {
   "cell_type": "code",
   "execution_count": null,
   "metadata": {},
   "outputs": [],
   "source": [
    "### query is a PANGAEApy object with built in objects\n",
    "print(query)"
   ]
  },
  {
   "cell_type": "code",
   "execution_count": null,
   "metadata": {},
   "outputs": [],
   "source": [
    "### you can ask the following attributes\n",
    "## totalcount, query error, result\n",
    "print(query.query)"
   ]
  },
  {
   "cell_type": "code",
   "execution_count": null,
   "metadata": {},
   "outputs": [],
   "source": [
    "print(f'There are {query.totalcount} query results.')"
   ]
  },
  {
   "cell_type": "code",
   "execution_count": null,
   "metadata": {},
   "outputs": [],
   "source": [
    "### put query results into dataframe\n",
    "query_results = pd.DataFrame(query.result)\n",
    "print(f'Total length of data frame query_results is {len(query_results)}.')"
   ]
  },
  {
   "cell_type": "code",
   "execution_count": null,
   "metadata": {
    "tags": []
   },
   "outputs": [],
   "source": [
    "query_results"
   ]
  },
  {
   "cell_type": "markdown",
   "metadata": {
    "tags": []
   },
   "source": [
    "#### Query PANGAEA with combinations of keywords\n",
    "[More information](https://wiki.pangaea.de/wiki/PANGAEA_search) how to query with keywords"
   ]
  },
  {
   "cell_type": "code",
   "execution_count": null,
   "metadata": {},
   "outputs": [],
   "source": [
    "### find datasets that contain both \"Geochemistry\" and \"sediment core\"\n",
    "## remember how to use the different quotes:\n",
    "## The search term is enclosed with single quotes '. If your search term includes a blank, use additional double quotes \" inside the single quotes.\n",
    "query = pan.PanQuery('Geochemistry \"sediment core\"')\n",
    "print(f'There are {query.totalcount} query results.')"
   ]
  },
  {
   "cell_type": "markdown",
   "metadata": {},
   "source": [
    "#### Optional query terms"
   ]
  },
  {
   "cell_type": "code",
   "execution_count": null,
   "metadata": {},
   "outputs": [],
   "source": [
    "### find datasets that contain \"Geochemistry\" and either \"Spitzbergen\" or \"Svalbard\" \n",
    "query = pan.PanQuery('Geochemistry AND (Spitzbergen OR Svalbard)')\n",
    "print(f'There are {query.totalcount} query results.')"
   ]
  },
  {
   "cell_type": "markdown",
   "metadata": {},
   "source": [
    "#### Uncertain spelling"
   ]
  },
  {
   "cell_type": "code",
   "execution_count": null,
   "metadata": {},
   "outputs": [],
   "source": [
    "### find datasets with uncertain spelling of single letter\n",
    "query = pan.PanQuery('M?ller')\n",
    "print(f'There are {query.totalcount} query results.')"
   ]
  },
  {
   "cell_type": "code",
   "execution_count": null,
   "metadata": {},
   "outputs": [],
   "source": [
    "# finds datasets with \"Neogloboquadrina\" regardless of your spelling mistake\n",
    "query = pan.PanQuery('~Neogloboqadrina')\n",
    "print(f'There are {query.totalcount} query results.') "
   ]
  },
  {
   "cell_type": "markdown",
   "metadata": {},
   "source": [
    "#### Specific author"
   ]
  },
  {
   "cell_type": "code",
   "execution_count": null,
   "metadata": {},
   "outputs": [],
   "source": [
    "# find datasets of author \"Herzschuh\"\n",
    "query = pan.PanQuery('citation:author:Boetius')\n",
    "print(f'There are {query.totalcount} query results.') "
   ]
  },
  {
   "cell_type": "markdown",
   "metadata": {},
   "source": [
    "#### Within geographical coordinates a.k.a bounding box"
   ]
  },
  {
   "cell_type": "code",
   "execution_count": null,
   "metadata": {},
   "outputs": [],
   "source": [
    "### query database for \"Geochemistry\" and \"sediment core\" within a certain geolocation a.k.a. bounding box\n",
    "## bounding box: bbox=(minlon, minlat,  maxlon, maxlat)\n",
    "query = pan.PanQuery('Geochemistry \"sediment core\"', limit = 500, bbox=(-60, 50, -10, 70))\n",
    "print(f'There are {query.totalcount} query results.')"
   ]
  },
  {
   "cell_type": "markdown",
   "metadata": {
    "tags": []
   },
   "source": [
    "### 2.3 Queries exceeding 500 results"
   ]
  },
  {
   "cell_type": "markdown",
   "metadata": {},
   "source": [
    "### 2.2 How to query PANGAEA without result limitations\n",
    "* The maximum of retrieving search results is 500 datasets.  \n",
    "* Retrieve datasets in chunks of 500 via offset option.  \n",
    "* Put all datasets in one data frame."
   ]
  },
  {
   "cell_type": "code",
   "execution_count": null,
   "metadata": {
    "tags": []
   },
   "outputs": [],
   "source": [
    "### query database for project \"PAGES_C-PEAT\" \n",
    "query = pan.PanQuery('project:label:PAGES_C-PEAT', limit = 500)\n",
    "print(f'There are {query.totalcount} query results.')\n",
    "print(f'Currently query consists of {len(query.result)} entries.')"
   ]
  },
  {
   "cell_type": "code",
   "execution_count": null,
   "metadata": {
    "tags": []
   },
   "outputs": [],
   "source": [
    "### Get all results and combine them in data frame.\n",
    "\n",
    "### create empty data frame\n",
    "df_query_results_all = pd.DataFrame()\n",
    "\n",
    "### loop over all results in steps of 500\n",
    "for i in np.arange(0,query.totalcount,500):\n",
    "    # store result of individual step in qs\n",
    "    qs = pan.PanQuery('project:label:PAGES_C-PEAT', limit = 500, offset=i)\n",
    "    # convert qs result with 500 entries to data frame df_qs\n",
    "    df_qs = pd.DataFrame(qs.result)\n",
    "    # concatenate all individual df_qs into one data frame named query_results_all\n",
    "    df_query_results_all = pd.concat([df_query_results_all,df_qs],ignore_index=True)\n",
    "    \n",
    "print(f'There are {query.totalcount} query results.')\n",
    "print(f'df_query_results_all consists of {len(df_query_results_all)} results.')"
   ]
  },
  {
   "cell_type": "code",
   "execution_count": null,
   "metadata": {
    "tags": []
   },
   "outputs": [],
   "source": [
    "### show first 3 lines\n",
    "df_query_results_all.head(3)"
   ]
  },
  {
   "cell_type": "code",
   "execution_count": null,
   "metadata": {
    "tags": []
   },
   "outputs": [],
   "source": [
    "### show last 3 lines\n",
    "df_query_results_all.tail(3)"
   ]
  },
  {
   "cell_type": "markdown",
   "metadata": {
    "tags": []
   },
   "source": [
    "### 2.3 Quiz\n",
    "[More information](https://wiki.pangaea.de/wiki/PANGAEA_search) how to query with keywords"
   ]
  },
  {
   "cell_type": "markdown",
   "metadata": {},
   "source": [
    "#### 2.3.1 How many datasets contain \"geological investigations\"?\n",
    "Hint: \"geological investigations\" **not** \"geological\" and \"investigations\""
   ]
  },
  {
   "cell_type": "code",
   "execution_count": null,
   "metadata": {},
   "outputs": [],
   "source": [
    "# Your solution"
   ]
  },
  {
   "cell_type": "code",
   "execution_count": null,
   "metadata": {},
   "outputs": [],
   "source": [
    "### solution\n",
    "query = pan.PanQuery('\"geological investigations\"')\n",
    "print(query.totalcount)"
   ]
  },
  {
   "cell_type": "markdown",
   "metadata": {},
   "source": [
    "#### 2.3.2 How many datasets contain \"geological investigations\" in the title only?"
   ]
  },
  {
   "cell_type": "code",
   "execution_count": null,
   "metadata": {},
   "outputs": [],
   "source": [
    "# Your solution"
   ]
  },
  {
   "cell_type": "code",
   "execution_count": null,
   "metadata": {
    "tags": [
     "solution"
    ]
   },
   "outputs": [],
   "source": [
    "### solution\n",
    "query = pan.PanQuery('citation:title:\"geological investigations\"')\n",
    "print(query.totalcount)"
   ]
  },
  {
   "cell_type": "markdown",
   "metadata": {},
   "source": [
    "#### 2.3.3 How many datasets measured \"Temperature, water\" using a CTD/Rosette?"
   ]
  },
  {
   "cell_type": "code",
   "execution_count": null,
   "metadata": {},
   "outputs": [],
   "source": [
    "# Your solution"
   ]
  },
  {
   "cell_type": "code",
   "execution_count": null,
   "metadata": {},
   "outputs": [],
   "source": [
    "### solution\n",
    "query = pan.PanQuery('parameter:\"Temperature, water\" method:CTD/Rosette')\n",
    "print(query.totalcount)"
   ]
  },
  {
   "cell_type": "markdown",
   "metadata": {
    "tags": []
   },
   "source": [
    "## 3. Get metadata\n",
    "A long list of metadata is callable with PanDataSet. \n",
    "Find a comprehensive list in internal documentation  \n",
    "_help(pan.PanQuery)_    \n",
    "\n",
    "or in this notebook full of examples: [pangaeapy_detailed_metadata_search.ipynb](https://github.com/pangaea-data-publisher/community-workshop-material/tree/master/Python/PANGAEApy_practical/pangaeapy_detailed_metadata_search.ipynb)  "
   ]
  },
  {
   "cell_type": "markdown",
   "metadata": {},
   "source": [
    "### 3.1 Get metadata of individual dataset"
   ]
  },
  {
   "cell_type": "markdown",
   "metadata": {},
   "source": [
    "##### Example dataset from PANGAEA https://doi.pangaea.de/10.1594/PANGAEA.923033"
   ]
  },
  {
   "cell_type": "code",
   "execution_count": null,
   "metadata": {},
   "outputs": [],
   "source": [
    "### 3 ways to ask for dataset metadata\n",
    "## complete URL\n",
    "# ds = PanDataSet('https://doi.pangaea.de/10.1594/PANGAEA.918423', include_data=False) \n",
    "## just URI\n",
    "# ds = PanDataSet('doi:10.1594/PANGAEA.918423', include_data=False)\n",
    "## just PANGAEA id number of dataset\n",
    "ds = PanDataSet(918423, include_data=False) "
   ]
  },
  {
   "cell_type": "markdown",
   "metadata": {},
   "source": [
    "#### Basic metadata retrieval"
   ]
  },
  {
   "cell_type": "code",
   "execution_count": null,
   "metadata": {},
   "outputs": [],
   "source": [
    "### Title\n",
    "ds.title"
   ]
  },
  {
   "cell_type": "code",
   "execution_count": null,
   "metadata": {},
   "outputs": [],
   "source": [
    "### Authors\n",
    "print(f'Authors: {\"; \".join([x.fullname for x in ds.authors])}')"
   ]
  },
  {
   "cell_type": "code",
   "execution_count": null,
   "metadata": {},
   "outputs": [],
   "source": [
    "### Full Reference\n",
    "ds.citation"
   ]
  },
  {
   "cell_type": "code",
   "execution_count": null,
   "metadata": {},
   "outputs": [],
   "source": [
    "### Geolocation\n",
    "print(f'Latitude: {ds.geometryextent[\"meanLatitude\"]}')\n",
    "print(f'Longitude: {ds.geometryextent[\"meanLongitude\"]}')"
   ]
  },
  {
   "cell_type": "code",
   "execution_count": null,
   "metadata": {},
   "outputs": [],
   "source": [
    "### Parameters\n",
    "params = \"; \".join([f'{param.name} [{param.unit}]' if param.unit else param.name for param in ds.params.values()])\n",
    "print(f'Parameters: {params}')"
   ]
  },
  {
   "cell_type": "code",
   "execution_count": null,
   "metadata": {},
   "outputs": [],
   "source": [
    "### Event as dataframe\n",
    "ds.getEventsAsFrame()"
   ]
  },
  {
   "cell_type": "code",
   "execution_count": null,
   "metadata": {},
   "outputs": [],
   "source": [
    "### Event as PanEvent object\n",
    "print(ds.events)\n",
    "\n",
    "for event in ds.events:\n",
    "    print(event.label)\n",
    "    print(event.method.name)\n",
    "    print(event.basis.name)"
   ]
  },
  {
   "cell_type": "markdown",
   "metadata": {},
   "source": [
    "#### Store metadata in data frame"
   ]
  },
  {
   "cell_type": "code",
   "execution_count": null,
   "metadata": {
    "tags": []
   },
   "outputs": [],
   "source": [
    "### create empty data frame\n",
    "df = pd.DataFrame()\n",
    "\n",
    "### store metadata in df\n",
    "df.loc[0,'dataset title'] = ds.title\n",
    "df.loc[0,'abstract'] = ds.abstract\n",
    "\n",
    "### ds.authors is a list\n",
    "df.loc[0,'first author fullname'] = ds.authors[0].fullname\n",
    "df.loc[0,'all authors fullnames'] = \"; \".join([x.fullname for x in ds.authors])\n",
    "\n",
    "### authors orcids is a list\n",
    "df.loc[0,'all authors orcids'] = \"; \".join([x.ORCID if x.ORCID else \"no ORCID\" for x in ds.authors])\n",
    "\n",
    "df.loc[0,'citation'] = ds.citation\n",
    "df.loc[0,'dataset DOI'] = ds.doi\n",
    "df.loc[0,'west bound longitude'] = ds.geometryextent[\"westBoundLongitude\"]\n",
    "df.loc[0,'east bound longitude'] = ds.geometryextent[\"eastBoundLongitude\"]\n",
    "df.loc[0,'south bound latitude'] = ds.geometryextent[\"southBoundLatitude\"]\n",
    "df.loc[0,'north bound latitude'] = ds.geometryextent[\"northBoundLatitude\"]\n",
    "### parameters is a list\n",
    "df.loc[0,'parameters'] = \"; \".join([f'{param.name} [{param.unit}]' if param.unit else param.name for param in ds.params.values()])\n",
    "\n",
    "### event devices\n",
    "df.loc[0,'label'] = \"; \".join(set([device for device in ds.getEventsAsFrame()[\"label\"]]))"
   ]
  },
  {
   "cell_type": "code",
   "execution_count": null,
   "metadata": {
    "tags": []
   },
   "outputs": [],
   "source": [
    "df"
   ]
  },
  {
   "cell_type": "markdown",
   "metadata": {},
   "source": [
    "#### Save dataframe as file"
   ]
  },
  {
   "cell_type": "code",
   "execution_count": null,
   "metadata": {
    "tags": []
   },
   "outputs": [],
   "source": [
    "### Create data directory\n",
    "data_directory = \"PANGAEA_data\"\n",
    "# Check if it already exists before creating it\n",
    "if not os.path.isdir(data_directory):\n",
    "    os.mkdir(data_directory)\n",
    "    \n",
    "### Save as csv (comma seperated value)\n",
    "df.to_csv(os.path.join(data_directory, f'PANGAEA_metadata_{ds.id}.csv'), encoding='utf-8', index=False)\n",
    "df.to_csv(os.path.join(data_directory, f'PANGAEA_metadata_{ds.id}.txt'), sep='\\t', encoding='utf-8', index=False)\n",
    "print(f'PANGAEA metadata of \"{ds.title}\" saved')"
   ]
  },
  {
   "cell_type": "markdown",
   "metadata": {},
   "source": [
    "##### find out more about output formats e.g. excel at https://pandas.pydata.org/pandas-docs/stable/reference/io.html"
   ]
  },
  {
   "cell_type": "markdown",
   "metadata": {
    "tags": []
   },
   "source": [
    "### 3.2 Getting metadata for multiple datasets"
   ]
  },
  {
   "cell_type": "code",
   "execution_count": null,
   "metadata": {
    "tags": []
   },
   "outputs": [],
   "source": [
    "### remember the limit!\n",
    "query = pan.PanQuery(\"basis:tara location:'arctic ocean'\", limit=5)\n",
    "print(f'There are {query.totalcount} query results.')"
   ]
  },
  {
   "cell_type": "code",
   "execution_count": null,
   "metadata": {
    "tags": []
   },
   "outputs": [],
   "source": [
    "# store query results in dataframe\n",
    "df = pd.DataFrame(query.result)"
   ]
  },
  {
   "cell_type": "code",
   "execution_count": null,
   "metadata": {
    "tags": []
   },
   "outputs": [],
   "source": [
    "df.head()"
   ]
  },
  {
   "cell_type": "markdown",
   "metadata": {},
   "source": [
    "#### Loop over all entries in df and get metadata for each entry\n",
    "NOTE: As a safety precaution, the number of metadata requests is limited for a specific time period. \n",
    "\n",
    "_Received too many (metadata) requests error (429)...waiting 30s -_\n",
    "\n",
    "If you have larger requests, prepare to wait or use a different tool e.g. OAI-PMH (https://wiki.pangaea.de/wiki/OAI-PMH)."
   ]
  },
  {
   "cell_type": "code",
   "execution_count": null,
   "metadata": {
    "tags": []
   },
   "outputs": [],
   "source": [
    "### Create one data frame for all datasets\n",
    "data_all = pd.DataFrame()\n",
    "\n",
    "### loop over all datasets ins df\n",
    "for ind,value in df['URI'].items():\n",
    "    \n",
    "    ## use PanDataSet to get metadata and data and put them into 2 diferent dataframes\n",
    "    ds = PanDataSet(value, include_data=False)\n",
    "\n",
    "    print(ind, ds.doi)\n",
    "\n",
    "    ## put metadata into df in new columns\n",
    "    df.loc[ind,'Title'] = ds.title\n",
    "    df.loc[ind,'Publication date'] = ds.date\n",
    "    df.loc[ind,'Authors'] = {\"; \".join([x.fullname for x in ds.authors])}\n",
    "    df.loc[ind,'Citation'] = ds.citation\n",
    "    df.loc[ind,'DOI'] = ds.doi\n",
    "    df.loc[ind,'Parameters'] = \"; \".join([f'{param.name} [{param.unit}]' if param.unit else param.name for param in ds.params.values()])\n",
    "    if ds.events:\n",
    "        df.loc[ind,'Event'] = \"; \".join([x.label for x in ds.events])\n"
   ]
  },
  {
   "cell_type": "code",
   "execution_count": null,
   "metadata": {
    "tags": []
   },
   "outputs": [],
   "source": [
    "df.head(2)"
   ]
  },
  {
   "cell_type": "code",
   "execution_count": null,
   "metadata": {},
   "outputs": [],
   "source": [
    "### drop columns no longer needed\n",
    "df = df.drop(['URI','score','html','type','position'],axis=1)\n",
    "df"
   ]
  },
  {
   "cell_type": "markdown",
   "metadata": {},
   "source": [
    "#### Save dataframe as file"
   ]
  },
  {
   "cell_type": "code",
   "execution_count": null,
   "metadata": {
    "tags": []
   },
   "outputs": [],
   "source": [
    "### Create data directory\n",
    "data_directory = \"PANGAEA_data\"\n",
    "### Check if it already exists before creating it\n",
    "if not os.path.isdir(data_directory):\n",
    "    os.mkdir(data_directory)\n",
    "    \n",
    "### Save as csv (comma seperated value)\n",
    "df.to_csv(os.path.join(data_directory, f'PANGAEA_metadata_df_all.csv'), encoding='utf-8', index=False)\n",
    "df.to_csv(os.path.join(data_directory, f'PANGAEA_metadata_df_all.txt'), sep='\\t', encoding='utf-8', index=False)\n",
    "print(f'PANGAEA metadata saved')"
   ]
  },
  {
   "cell_type": "markdown",
   "metadata": {},
   "source": [
    "##### find out more about output formats e.g. excel at https://pandas.pydata.org/pandas-docs/stable/reference/io.html"
   ]
  },
  {
   "cell_type": "markdown",
   "metadata": {
    "tags": []
   },
   "source": [
    "### 3.3 Quiz"
   ]
  },
  {
   "cell_type": "markdown",
   "metadata": {},
   "source": [
    "#### 3.3.1 What is the title of this dataset?\n",
    "https://doi.pangaea.de/10.1594/PANGAEA.937210"
   ]
  },
  {
   "cell_type": "code",
   "execution_count": null,
   "metadata": {},
   "outputs": [],
   "source": [
    "# Your solution"
   ]
  },
  {
   "cell_type": "code",
   "execution_count": null,
   "metadata": {},
   "outputs": [],
   "source": [
    "### solution\n",
    "ds = PanDataSet(\"https://doi.pangaea.de/10.1594/PANGAEA.937210\", include_data=False)\n",
    "ds.title"
   ]
  },
  {
   "cell_type": "markdown",
   "metadata": {},
   "source": [
    "#### 3.3.2 What is the name of the second author of this dataset?\n",
    "https://doi.pangaea.de/10.1594/PANGAEA.863967"
   ]
  },
  {
   "cell_type": "code",
   "execution_count": null,
   "metadata": {},
   "outputs": [],
   "source": [
    "# Your solution"
   ]
  },
  {
   "cell_type": "code",
   "execution_count": null,
   "metadata": {},
   "outputs": [],
   "source": [
    "### solution\n",
    "ds = PanDataSet(\"https://doi.pangaea.de/10.1594/PANGAEA.863967\", include_data=False)\n",
    "ds.authors[1].fullname"
   ]
  },
  {
   "cell_type": "markdown",
   "metadata": {},
   "source": [
    "#### 3.3.3 Did they measure temperature in this dataset?\n",
    "https://doi.pangaea.de/10.1594/PANGAEA.863975"
   ]
  },
  {
   "cell_type": "code",
   "execution_count": null,
   "metadata": {},
   "outputs": [],
   "source": [
    "# Your solution"
   ]
  },
  {
   "cell_type": "code",
   "execution_count": null,
   "metadata": {},
   "outputs": [],
   "source": [
    "### solution\n",
    "ds = PanDataSet(\"https://doi.pangaea.de/10.1594/PANGAEA.863975\")\n",
    "\n",
    "list_params = list(ds.params)\n",
    "print(list_params)\n",
    "\n",
    "if 'temperature' in list_params:\n",
    "    print('temperature included')\n",
    "else:\n",
    "    print('no temperature')\n",
    "\n",
    "# print(\"\".join(40*[\"-\"]))\n",
    "\n",
    "# list_parameter = (\"; \".join([f'{param.name} [{param.unit}]' if param.unit else param.name for param in ds.params.values()]))\n",
    "# print(list_parameter)\n",
    "\n",
    "# if 'temperature' in list_parameter:\n",
    "#     print('temperature included')\n",
    "# else:\n",
    "#     print('no temperature')"
   ]
  },
  {
   "cell_type": "code",
   "execution_count": null,
   "metadata": {},
   "outputs": [],
   "source": []
  },
  {
   "cell_type": "markdown",
   "metadata": {
    "tags": []
   },
   "source": [
    "## 4. Download datasets"
   ]
  },
  {
   "cell_type": "markdown",
   "metadata": {
    "tags": []
   },
   "source": [
    "### 4.1 Download single dataset\n",
    "* download open access dataset\n",
    "* apply authentication token"
   ]
  },
  {
   "cell_type": "markdown",
   "metadata": {},
   "source": [
    "#### Search for datasets"
   ]
  },
  {
   "cell_type": "code",
   "execution_count": null,
   "metadata": {},
   "outputs": [],
   "source": [
    "# query database for \"Deep-sea Sponge Microbiome Project\" \n",
    "query = pan.PanQuery('\"Deep-sea Sponge Microbiome Project\"', limit = 50)\n",
    "query_results = pd.DataFrame(query.result)\n",
    "query_results"
   ]
  },
  {
   "cell_type": "markdown",
   "metadata": {},
   "source": [
    "#### Download dataset from PANGAEA\n",
    "Example dataset: https://doi.pangaea.de/10.1594/PANGAEA.923033"
   ]
  },
  {
   "cell_type": "code",
   "execution_count": null,
   "metadata": {},
   "outputs": [],
   "source": [
    "ds = PanDataSet(\"https://doi.pangaea.de/10.1594/PANGAEA.923033\")\n",
    "### ds contains data and metadata\n",
    "### see section below on how to get metadata\n",
    "print(type(ds))\n",
    "\n",
    "### ds.data is data frame\n",
    "print(type(ds.data))\n",
    "\n",
    "### dataset header contains of parameter short names without unit\n",
    "ds.data.head(3)"
   ]
  },
  {
   "cell_type": "markdown",
   "metadata": {
    "tags": []
   },
   "source": [
    "#### Translate to long parameter names\n",
    "Because by default parameters are abbreviated without units"
   ]
  },
  {
   "cell_type": "code",
   "execution_count": null,
   "metadata": {
    "tags": []
   },
   "outputs": [],
   "source": [
    "# Translate short parameters names to long names including unit\n",
    "def get_long_parameters(ds):\n",
    "    \"\"\"Translate short parameters names to long names including unit\n",
    "\n",
    "    Args:\n",
    "        ds (PANGAEA dataset): PANGAEA dataset\n",
    "    \"\"\"\n",
    "    ds.data.columns =  [f'{param.name} [{param.unit}]' if param.unit else param.name for param in ds.params.values()]\n"
   ]
  },
  {
   "cell_type": "code",
   "execution_count": null,
   "metadata": {
    "tags": []
   },
   "outputs": [],
   "source": [
    "ds.data.head(2)"
   ]
  },
  {
   "cell_type": "code",
   "execution_count": null,
   "metadata": {
    "tags": []
   },
   "outputs": [],
   "source": [
    "get_long_parameters(ds)"
   ]
  },
  {
   "cell_type": "code",
   "execution_count": null,
   "metadata": {
    "tags": []
   },
   "outputs": [],
   "source": [
    "ds.data.head(2)"
   ]
  },
  {
   "cell_type": "markdown",
   "metadata": {},
   "source": [
    "#### What is an authentication token and what is it good for?\n",
    "\n",
    "Example dataset with access restriction: https://doi.pangaea.de/10.1594/PANGAEA.960280"
   ]
  },
  {
   "cell_type": "markdown",
   "metadata": {},
   "source": [
    "extract from help(pan.pandataset)  \n",
    "_class PanDataSet(builtins.object)  \n",
    "        PanDataSet(id=None, paramlist=None, deleteFlag='', enable_cache=False, include_data=True, expand_terms=[], auth_token=None, cache_expiry_days=1)_"
   ]
  },
  {
   "cell_type": "markdown",
   "metadata": {},
   "source": [
    "Find **your** temporary authentication token at https://pangaea.de/user/"
   ]
  },
  {
   "cell_type": "code",
   "execution_count": null,
   "metadata": {
    "tags": []
   },
   "outputs": [],
   "source": [
    "my_token = ''\n",
    "ds = PanDataSet(\"https://doi.pangaea.de/10.1594/PANGAEA.960280\", auth_token=my_token)"
   ]
  },
  {
   "cell_type": "code",
   "execution_count": null,
   "metadata": {
    "tags": []
   },
   "outputs": [],
   "source": [
    "ds.data.head()"
   ]
  },
  {
   "cell_type": "markdown",
   "metadata": {},
   "source": [
    "#### Save data"
   ]
  },
  {
   "cell_type": "code",
   "execution_count": null,
   "metadata": {},
   "outputs": [],
   "source": [
    "### Create data directory\n",
    "data_directory = \"PANGAEA_data\"\n",
    "### Check if it already exists before creating it\n",
    "if not os.path.isdir(data_directory):\n",
    "    os.mkdir(data_directory)\n",
    "### Save as csv (comma seperated value)\n",
    "print(f'PANGAEA dataset \"{ds.title}\" saved')\n",
    "ds.data.to_csv(os.path.join(data_directory, f'PANGAEA_dataset_{ds.id}.csv'),index=False)"
   ]
  },
  {
   "cell_type": "markdown",
   "metadata": {},
   "source": [
    "### 4.2 Download multiple datasets"
   ]
  },
  {
   "cell_type": "markdown",
   "metadata": {},
   "source": [
    "#### Perform query"
   ]
  },
  {
   "cell_type": "code",
   "execution_count": null,
   "metadata": {
    "tags": []
   },
   "outputs": [],
   "source": [
    "# query database for Thermosalinograph data published from 2020 onwards  \n",
    "\n",
    "# Get all results and combine them in data frame.\n",
    "df_all = pd.DataFrame()\n",
    "\n",
    "# loop over all results in steps of 500\n",
    "for i in np.arange(0,query.totalcount,500):\n",
    "\n",
    "    # store result of individual step in qs\n",
    "    qs = pan.PanQuery('device:thermosalinograph citation:year:202* project:\"dam underway\"', limit = 500, offset=i)\n",
    "    \n",
    "    # convert qs result with 500 entries to data frame df_qs\n",
    "    df_qs = pd.DataFrame(qs.result)\n",
    "    \n",
    "    # concatenate all individual df_qs into one data frame named query_results_all\n",
    "    df_all = pd.concat([df_all,df_qs],ignore_index=True)\n",
    "    \n",
    "pd.concat([df_all.head(2),df_all.tail(2)])"
   ]
  },
  {
   "cell_type": "markdown",
   "metadata": {
    "tags": []
   },
   "source": [
    "#### 4.2.1 Download multiple datasets and treat them as individuals\n",
    "Note: Data collections and restricted datasets cannot be downloaded"
   ]
  },
  {
   "cell_type": "code",
   "execution_count": null,
   "metadata": {
    "tags": []
   },
   "outputs": [],
   "source": [
    "# check whether df_all consists of collections\n",
    "df_all[df_all['type']=='collection']"
   ]
  },
  {
   "cell_type": "code",
   "execution_count": null,
   "metadata": {},
   "outputs": [],
   "source": [
    "### Create dictionary to store dataframes in\n",
    "data_dict = {}\n",
    "### Loop over DOIs and download datasets\n",
    "# for pangaea_doi in df_all['URI']:\n",
    "for pangaea_doi in df_all['URI'][0:3]: # loop only over first 3 datasets\n",
    "    print(\"\".join(40*[\"-\"]))\n",
    "    print(f'PANGAEA ID: {pangaea_doi}')\n",
    "    ### Cache\n",
    "    ds = PanDataSet(pangaea_doi, enable_cache=True)\n",
    "    ### Translate to long parameter names\n",
    "    get_long_parameters(ds)\n",
    "    print(f'Dataset title: {ds.title}')\n",
    "    print(ds.data.head(2))\n",
    "    pangaea_id = pangaea_doi.split('A.')[1]\n",
    "    data_dict[pangaea_id] = ds.data"
   ]
  },
  {
   "cell_type": "code",
   "execution_count": null,
   "metadata": {
    "tags": []
   },
   "outputs": [],
   "source": [
    "list(data_dict)"
   ]
  },
  {
   "cell_type": "code",
   "execution_count": null,
   "metadata": {
    "tags": []
   },
   "outputs": [],
   "source": [
    "data_dict['918071'].head()"
   ]
  },
  {
   "cell_type": "markdown",
   "metadata": {},
   "source": [
    "#### Save multiple datasets as individuals"
   ]
  },
  {
   "cell_type": "code",
   "execution_count": null,
   "metadata": {},
   "outputs": [],
   "source": [
    "# Create data directory\n",
    "data_directory = \"PANGAEA_data\"\n",
    "if not os.path.isdir(data_directory):\n",
    "    os.mkdir(data_directory)\n",
    "    \n",
    "# Loop over each dataset in the dictionary and save to csv\n",
    "for key, df in data_dict.items():\n",
    "    print(f'PANGAEA dataset {key} saved')\n",
    "    # Save to csv\n",
    "    data_dict[key].to_csv(os.path.join(data_directory, f'PANGAEA_dataset_{key}.csv'),index=False)"
   ]
  },
  {
   "cell_type": "markdown",
   "metadata": {},
   "source": [
    "#### 4.2.2 Download and combine data and metadata of query results\n",
    "\n",
    "NOTE: As a safety precaution, the number of metadata requests is limited for a specific time period. \n",
    "\n",
    "_Received too many (metadata) requests error (429)...waiting 30s -_\n",
    "\n",
    "If you have larger requests, prepare to wait or use a different tool e.g. OAI-PMH (https://wiki.pangaea.de/wiki/OAI-PMH)."
   ]
  },
  {
   "cell_type": "code",
   "execution_count": null,
   "metadata": {},
   "outputs": [],
   "source": [
    "### Create one data frame for all datasets\n",
    "data_all = pd.DataFrame()\n",
    "\n",
    "### loop over all datasets in df_all\n",
    "# for ind,value in df_all['URI'].items():\n",
    "### only download first 3 results during workshop\n",
    "for ind,value in df_all['URI'][0:3].items(): \n",
    "    \n",
    "    ## use PanDataSet to get metadata and data and put them into 2 diferent dataframes\n",
    "    ds = PanDataSet(value)\n",
    "\n",
    "    print(ind, ds.doi)\n",
    "\n",
    "    ## put metadata into df_all in new columns\n",
    "    df_all.loc[ind,'Title'] = ds.title\n",
    "    df_all.loc[ind,'Publication date'] = ds.date\n",
    "    df_all.loc[ind,'Authors'] = {\"; \".join([x.fullname for x in ds.authors])}\n",
    "    df_all.loc[ind,'Citation'] = ds.citation\n",
    "    df_all.loc[ind,'DOI'] = ds.doi\n",
    "    df_all.loc[ind,'Parameters'] = \"; \".join([f'{param.name} [{param.unit}]' if param.unit else param.name for param in ds.params.values()])\n",
    "    if ds.events:\n",
    "        df_all.loc[ind,'Event'] = \"; \".join([x.label for x in ds.events])\n",
    "    \n",
    "    ### Translate default short parameter names to long parameter names and add unit\n",
    "    get_long_parameters(ds)\n",
    "    \n",
    "    ### create new data dataframe for each query result \n",
    "    df_data = pd.DataFrame()\n",
    "    df_data = ds.data\n",
    "    df_data['DOI'] = ds.doi\n",
    "\n",
    "    ### combine all datasats into one dataframe\n",
    "    data_all = pd.concat([data_all,df_data], ignore_index=True)\n"
   ]
  },
  {
   "cell_type": "code",
   "execution_count": null,
   "metadata": {},
   "outputs": [],
   "source": [
    "### show first two rows of metadata in df_all\n",
    "df_all.head(2)"
   ]
  },
  {
   "cell_type": "code",
   "execution_count": null,
   "metadata": {},
   "outputs": [],
   "source": [
    "### show first two rows of data in data_all\n",
    "data_all.head(2)"
   ]
  },
  {
   "cell_type": "markdown",
   "metadata": {},
   "source": [
    "#### Save data"
   ]
  },
  {
   "cell_type": "code",
   "execution_count": null,
   "metadata": {},
   "outputs": [],
   "source": [
    "### Create data directory\n",
    "data_directory = \"PANGAEA_data\"\n",
    "### Check if it already exists before creating it\n",
    "if not os.path.isdir(data_directory):\n",
    "    os.mkdir(data_directory)\n",
    "    \n",
    "### Save as tab delimited text file\n",
    "## set filenames\n",
    "filename1 = 'thermosalinograph_metadata.txt'\n",
    "filename2 = 'thermosalinograph_data.txt'\n",
    "\n",
    "df_all.to_csv(os.path.join(data_directory, filename1), sep='\\t', encoding='utf-8', index=False)\n",
    "data_all.to_csv(os.path.join(data_directory, filename2), sep='\\t', encoding='utf-8', index=False)"
   ]
  },
  {
   "cell_type": "markdown",
   "metadata": {},
   "source": [
    "### 4.3 Quiz"
   ]
  },
  {
   "cell_type": "markdown",
   "metadata": {},
   "source": [
    "#### 4.3.1 Download this dataset and identify the first event name\n",
    "https://doi.PANGAEA.de/10.1594/PANGAEA.947275"
   ]
  },
  {
   "cell_type": "code",
   "execution_count": null,
   "metadata": {},
   "outputs": [],
   "source": [
    "# Your solution"
   ]
  },
  {
   "cell_type": "code",
   "execution_count": null,
   "metadata": {},
   "outputs": [],
   "source": [
    "### solution\n",
    "ds = PanDataSet(\"https://doi.pangaea.de/10.1594/PANGAEA.947275\")\n",
    "print(ds.data.head(3))\n",
    "print(f'The first event name is {ds.data.loc[0][\"Event\"]}')"
   ]
  },
  {
   "cell_type": "markdown",
   "metadata": {},
   "source": [
    "#### 4.3.2 Download this dataset and identify the number of sampling points >1000m\n",
    "https://doi.pangaea.de/10.1594/PANGAEA.943624"
   ]
  },
  {
   "cell_type": "code",
   "execution_count": null,
   "metadata": {},
   "outputs": [],
   "source": [
    "# Your solution"
   ]
  },
  {
   "cell_type": "code",
   "execution_count": null,
   "metadata": {},
   "outputs": [],
   "source": [
    "### solution\n",
    "# Download and store data table in df\n",
    "ds = PanDataSet(\"https://doi.pangaea.de/10.1594/PANGAEA.943624\")\n",
    "df = ds.data\n",
    "# Filter sampling points above 1000m\n",
    "df_1000 = df[df[\"Elevation\"]>1000]\n",
    "#print(df_1000.head(3))\n",
    "# Count the number of sampling points\n",
    "print(f'There are {len(df_1000)} sampling point above 1000m')\n"
   ]
  },
  {
   "cell_type": "markdown",
   "metadata": {},
   "source": [
    "## 5. Download binary files"
   ]
  },
  {
   "cell_type": "markdown",
   "metadata": {},
   "source": [
    "### 5.1 Download PANGAEA dataset with image data\n",
    "Dataset: https://doi.pangaea.de/10.1594/PANGAEA.943250"
   ]
  },
  {
   "cell_type": "code",
   "execution_count": null,
   "metadata": {
    "tags": []
   },
   "outputs": [],
   "source": [
    "# Download dataset from PANGAEA\n",
    "pan_id = 943250\n",
    "ds = PanDataSet(pan_id)\n",
    "# Spell out abbreviated parameters\n",
    "get_long_parameters(ds)\n",
    "df = ds.data.iloc[22:25,:]\n",
    "df.head(2)"
   ]
  },
  {
   "cell_type": "markdown",
   "metadata": {
    "tags": []
   },
   "source": [
    "### 5.2 Download images"
   ]
  },
  {
   "cell_type": "code",
   "execution_count": null,
   "metadata": {
    "tags": []
   },
   "outputs": [],
   "source": [
    "# Create data directory\n",
    "data_directory = \"PANGAEA_data\"\n",
    "if not os.path.isdir(data_directory):\n",
    "    os.mkdir(data_directory)\n",
    "\n",
    "### example to download only 1 image at specific time step\n",
    "df = ds.data[ds.data['DATE/TIME']=='2019-10-01 23:15:06']\n",
    "\n",
    "### Create file urls\n",
    "df[\"image_url\"] = [f'https://download.pangaea.de/dataset/{ds.id}/files/{img}' for img in df['Image']]\n",
    "\n",
    "### download images\n",
    "for i, file_url in enumerate(df['image_url']):\n",
    "    response = requests.get(file_url,data_directory)    \n",
    "    index = df.loc[(df == file_url).any(axis=1)].index[0]\n",
    "    ### save image\n",
    "    open(data_directory+'/'+df.loc[index,'Image'], 'wb').write(response.content)\n",
    "    print(df.loc[index,'Image'] +' downloaded')"
   ]
  },
  {
   "cell_type": "code",
   "execution_count": null,
   "metadata": {},
   "outputs": [],
   "source": []
  }
 ],
 "metadata": {
  "kernelspec": {
   "display_name": "Python [conda env:pangaeapy]",
   "language": "python",
   "name": "conda-env-pangaeapy-py"
  },
  "language_info": {
   "codemirror_mode": {
    "name": "ipython",
    "version": 3
   },
   "file_extension": ".py",
   "mimetype": "text/x-python",
   "name": "python",
   "nbconvert_exporter": "python",
   "pygments_lexer": "ipython3",
   "version": "3.13.1"
  }
 },
 "nbformat": 4,
 "nbformat_minor": 4
}
